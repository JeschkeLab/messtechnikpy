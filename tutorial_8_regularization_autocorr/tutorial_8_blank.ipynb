{
 "cells": [
  {
   "cell_type": "markdown",
   "metadata": {},
   "source": [
    "# Messtechnik HS2021 - Tutorial 8"
   ]
  },
  {
   "cell_type": "markdown",
   "metadata": {},
   "source": [
    "## Aufgabe 1: Fredholmintegral und Tikhonov-Regularisierung\n",
    "---------\n",
    "Abstandsmessungen zwischen zwei paramagnetischen Zentren (Elektronenspins mit $S = 1/2$) werden in der EPR-Spektroskopie mittels der DEER-Pulssequenz gemacht. Ein Fredholmintegral erster Ordnung beschreibt das experimentell gemessene Signal\n",
    "\n",
    "$$ S(t) = \\int_0^{\\rm t_{max}} K(t,r) P(r) dr $$\n",
    "\n",
    "wobei $K(t,r)$ das dipolare Kernel ist, welches das Zeitsignal mit der Abstandsverteilung $P(r)$ verbindet. In der Realität, sind das exprimentelle Signal $\\mathbf{S}$ und die Abstandsverteilung $\\mathbf{P}$ Vektoren der Länge $n$ und $m$. Das dipolare Kernel $\\mathrm{K}$ ist folglich eine Matrix mit der Dimension $ m \\times n $. Das Zeitsignal wird somit als lineare Matrixoperation beschrieben:\n",
    "\n",
    "$$ \\mathbf{S} = \\mathrm{K} \\mathbf{P} $$\n",
    "\n",
    "\n",
    "---------"
   ]
  },
  {
   "cell_type": "markdown",
   "metadata": {},
   "source": [
    "### 1a)\n",
    "Importieren Sie das package `deerlab` und laden Sie die experimentellen Zeitachse und Daten, indem Sie die Datei `DEER_signal.npz` mit der Numpyfunktion `load()` verwenden."
   ]
  },
  {
   "cell_type": "code",
   "execution_count": null,
   "metadata": {},
   "outputs": [],
   "source": []
  },
  {
   "cell_type": "markdown",
   "metadata": {},
   "source": [
    "### 1b)\n",
    "Definieren Sie eine linear Distanzachse $\\mathrm{r}$ im Bereich $[1.5,10]\\, {\\rm nm}$ mit gleicher Anzahl Punkte wie $t$ und berechnen Sie mit der Deerlab-Funktion `dipolarkernel()` das passende dipolare Kernel $\\mathbf{K}$ für die Zeitachse $\\mathbf{t}$ und Distanzachse $\\mathbf{r}$.\n"
   ]
  },
  {
   "cell_type": "code",
   "execution_count": null,
   "metadata": {},
   "outputs": [],
   "source": []
  },
  {
   "cell_type": "markdown",
   "metadata": {},
   "source": [
    "### 1c)\n",
    "Berechnen Sie die Konditionszahl der dipolaren Kernelmatrix $\\mathbf{K}$ und kommentieren Sie das Resultat in Bezug auf das weitere Fittingvorgehen."
   ]
  },
  {
   "cell_type": "code",
   "execution_count": null,
   "metadata": {},
   "outputs": [],
   "source": []
  },
  {
   "cell_type": "markdown",
   "metadata": {},
   "source": [
    "### 1d)\n",
    "Berechnen Sie die Abstandsverteilung $\\mathbf{P}$ durch Inversion der Kernelmatrix anhand der Gleichung:\n",
    "\n",
    "$$ \\mathbf{P} = \\mathbf{K}^{-1} \\mathbf{S} $$\n",
    "\n",
    "Stellen Sie das Signal und die erhaltene Abstandsverteilung graphisch dar. Kommentieren Sie das Resultat der Abstandsverteilung und vergleichen Sie es mit der realen Abstandsverteilung ($\\mathbf{r}_\\text{truth}$, $\\mathbf{P}_\\text{truth}$), welche Sie auch in `DEER_signal.npz` als Variablen r und P finden."
   ]
  },
  {
   "cell_type": "code",
   "execution_count": null,
   "metadata": {},
   "outputs": [],
   "source": []
  },
  {
   "cell_type": "markdown",
   "metadata": {},
   "source": [
    "### 1e)\n",
    "Finden Sie nun mit Hilfe der Tikhonov-Regularisierung \n",
    "\n",
    "$$ \\mathbf{P}_\\text{opt} = \\text{argmin}\\left\\{ \\frac{1}{2} ||\\mathbf{K}\\mathbf{P} - \\mathbf{S}||_2^2 + \\frac{\\alpha^2}{2} || \\mathbf{LP} ||_2^2 \\right\\} $$\n",
    "\n",
    "eine optimale Lösung für den Fit des experimentelle Signal, um die richtige Abstandsverteilung herauszufinden.\n",
    "Der Regularisierungsparameter $\\alpha$ wägt die Übereinstimmung der Daten mit dem Fit mit dem Glätte-Penalty\n",
    "\n",
    "($||\\mathbf{LP}||_2^2$) ab.\n",
    "Je grösser $\\alpha$ desto mehr wird das Glättekriterium berücksichtigt und je kleiner $\\alpha$ desto grösser die Datenübereinstimmung mit dem Fit.\n",
    "\n",
    "Verwenden Sie für das Datenfitting und Herausfinden der Abstandsverteilung die Funktion `fitregmodel()` von `deerlab`. Probieren Sie unterschiedliche Regularisierungsparameter $\\alpha$ zwischen $10^{-5}$ und $10$ aus und kommentieren Sie den Einfluss auf den Signalfit wie auch auf die resultierene Abstandsverteilung.\n",
    "\n",
    "*Hinweis*: \n",
    "Verwenden Sie `help()` um die nötigen Inputs für die `fitregmodel`-Funktion herauszufinden. Verwenden Sie `regparam='tikhonov'` um die Tikhonov-Regularisierung zu wählen und geben Sie der Funktion $\\alpha$ über `regparam=` weiter."
   ]
  },
  {
   "cell_type": "code",
   "execution_count": null,
   "metadata": {},
   "outputs": [],
   "source": []
  },
  {
   "cell_type": "markdown",
   "metadata": {},
   "source": [
    "### Zusatz: \n",
    "Um eine gute Wahl für den Regularisierungsparameter $\\alpha$ zu treffen gibt es unterschiedliche Auswahlkriterien wie AIC, BIC, etc.\n",
    "Hier zeigen wir Ihnen die Unterschiede vom AIC, LR und srGCV Auswahlkriterium\n",
    "\n",
    "Mehr Informationen zu Auswahlskriterien für die Auswertung von DEER-Messungen in der EPR finden Sie in den folgenden Papers:\n",
    "- [Journal of Magnetic Resonance 288 (2018) 58–68](10.1016/j.jmr.2018.01.021)\n",
    "- [Journal of Magnetic Resonance 300 (2019) 28–40](10.1016/j.jmr.2019.01.008)\n"
   ]
  },
  {
   "cell_type": "code",
   "execution_count": null,
   "metadata": {},
   "outputs": [],
   "source": []
  },
  {
   "cell_type": "markdown",
   "metadata": {},
   "source": [
    "## Aufgabe 2: Lorentzverteilter stochastischer Prozess\n",
    "---------\n",
    "\n",
    "Bei einem stochastischen Prozess ist das Ergebnis einer Messung nicht vorhersehbar. Trotzdem ist es wichtig Informationen über diesen stochastischen Prozess zu gewinnen, indem man charakteristische Grössen wie die Wahrscheinlichkeitsdichtefunktion und die spektrale Leistungsdichte betrachtet. Auch Autokorrelation und Kreuzkorrelation sind wichtige Hilfsmittel um das Signal zu charakterisieren und am Ende besser zu verstehen.\n",
    "\n",
    "---------"
   ]
  },
  {
   "cell_type": "markdown",
   "metadata": {},
   "source": [
    "### 2a)\n",
    "Nehmen Sie an ein stochastischer Prozess $Y$ mit den Werten $y$ sei unkorreliert und lorentzverteilt mit der Wahrscheinlichkeitsdichtefunktion:\n",
    "$$ q(y) = \\frac{\\beta}{\\pi \\left(\\beta^2 + y^2 \\right) } $$\n",
    "\n",
    "Generieren Sie aus $N = 10^5$ gleichverteilten Zufallszahlen $x$ (siehe `numpy.random.rand`), mit der Wahrscheinlichkeitdichtefunktion-Eigenschaft \n",
    "\n",
    "$$ p(x)dx = dx \\,\\,\\,\\,\\,\\,\\,\\,{\\rm wenn} \\,\\,\\,0 < x < 1 ,$$ \n",
    "\n",
    "lorenztverteilte Zufallszahlen $y$.\n",
    "\n",
    "Stellen Sie die Zufallszahlen $x$ und $y$ in Abhängigkeit von $N$ graphisch dar.\n",
    "\n",
    "*Hinweis*: Verwenden Sie, um die Zufallsvariabel $y(x)$ aus $p(x)$ und $q(y)$ zu berechnen, die folgende mathematische Formel:\n",
    "$$ p(x) \\frac{dx}{dy} = q(y) $$"
   ]
  },
  {
   "cell_type": "code",
   "execution_count": null,
   "metadata": {},
   "outputs": [],
   "source": []
  },
  {
   "cell_type": "markdown",
   "metadata": {},
   "source": [
    "### 2b)\n",
    "Zeigen Sie anhand von Histogrammen (siehe `matlibplot.pyplot.hist()`), dass die Verteilung der Zufallszahlen $x$ und $y$ wirklich den Wahrscheinlichkeitsdichtefunktionen $p(x)$ und $q(y)$ folgt.\n",
    "\n",
    "*Hinweis*: Die gleichverteilte Wahrscheinlichkeitsdichtefunktion $p(x)$ kann beschrieben werden als:\n",
    "$$ p(x) = \\frac{1}{B-A} \\,\\,\\,\\,\\,\\,\\,\\,{\\rm wenn} \\,\\,\\,A < x < B .$$ "
   ]
  },
  {
   "cell_type": "code",
   "execution_count": null,
   "metadata": {},
   "outputs": [],
   "source": []
  },
  {
   "cell_type": "markdown",
   "metadata": {},
   "source": [
    "### 2c)\n",
    "Die Autokorrelation kann als Faltung eines Signals mit sich selbst betrachtet werden. Schreiben Sie eine Funktion, die über das Faltungstheorem die Autokorrelation eines Zeitsignals berechnet. "
   ]
  },
  {
   "cell_type": "code",
   "execution_count": null,
   "metadata": {},
   "outputs": [],
   "source": []
  },
  {
   "cell_type": "markdown",
   "metadata": {},
   "source": [
    "### 2d)\n",
    "Importieren Sie die Zeitachse und das zu analysierende Signal aus dem File `timesignal.npz`, indem Sie die `numpy.load()` verwenden.\n",
    "Probieren Sie mit Hilfe der Fourier Transformation und der Autokorrelationsfunktion die 2 Frequenzen des Signals herauszufinden."
   ]
  },
  {
   "cell_type": "code",
   "execution_count": null,
   "metadata": {},
   "outputs": [],
   "source": []
  }
 ],
 "metadata": {
  "language_info": {
   "name": "python"
  },
  "orig_nbformat": 4
 },
 "nbformat": 4,
 "nbformat_minor": 2
}
