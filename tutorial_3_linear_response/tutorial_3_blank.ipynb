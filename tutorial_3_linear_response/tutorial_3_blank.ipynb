{
 "cells": [
  {
   "cell_type": "markdown",
   "metadata": {},
   "source": [
    "# Messtechnik HS2021 - Tutorial 3\n"
   ]
  },
  {
   "cell_type": "code",
   "execution_count": 1,
   "metadata": {},
   "outputs": [],
   "source": [
    "import numpy as np\n",
    "import matplotlib.pyplot as plt \n",
    "\n",
    "# Fourier transformation \n",
    "def compute_fft(t,X):\n",
    "    \"\"\" Manually compute the FT of a simple signal\"\"\"\n",
    "    t = np.atleast_1d(t)\n",
    "    X = np.atleast_1d(X)\n",
    "    # Construct grid of points for spectrum\n",
    "    N = np.size(t)\n",
    "    grid = np.arange(N)\n",
    "    dt = (max(t) - min(t))/(N - 1)\n",
    "    # Frequency axis\n",
    "    omega = 4*np.pi/N*grid\n",
    "    # Shift zero-frequency component to center of spectrum\n",
    "    omega = omega - 0.5*max(omega)\n",
    "    # Scale by Nyquist criterion\n",
    "    omega = omega/(2*dt)\n",
    "    # Calculate Fourier transform operator\n",
    "    FToperator = np.exp(-1j*np.outer(omega.T,t))\n",
    "    # Transform signal\n",
    "    Y = FToperator@X\n",
    "    return omega,Y\n",
    "\n",
    "# Inverse Fourier transformation \n",
    "def compute_ifft(t,omega,X):\n",
    "    \"\"\" Manually compute the FT of a simple signal\"\"\"\n",
    "    t = np.atleast_1d(t)\n",
    "    omega = np.atleast_1d(omega)\n",
    "    X = np.atleast_1d(X)\n",
    "    # Calculate Fourier transform operator\n",
    "    FToperator = np.exp(+1j*np.outer(t,omega.T))\n",
    "    # Transform signal\n",
    "    Y = FToperator@X\n",
    "    return Y\n",
    "\n"
   ]
  },
  {
   "cell_type": "markdown",
   "metadata": {},
   "source": [
    "# Aufgabe 1: Lineare Antwort\n",
    "----------------------\n"
   ]
  },
  {
   "cell_type": "markdown",
   "metadata": {},
   "source": [
    "Gegeben ist einen Input EM-Puls $ x(t) $ der durch einen Kabel zum Spektrometer geschickt wird. Am Ende des Kabels wird der Output Puls $ y(t) $ neu gemessen. \n",
    "Die Input und Output Pulsen sind in der Numpy-formattierte Datei `pulses.npz` gespeichert.  \n",
    "\n",
    "1) Plotten Sie die gemessene Pulsen. Welche Unterschieden sehen Sie? \n",
    "2) Berechnen und vergleichen Sie die Pulsen im Frequenzbereich. Benutzen Sie dafür die vorgegebene Funktion `compute_fft`.\n",
    "3) Berechnen Sie die Antwortsfunktion des Kabels. Benutzen Sie dafür die vorgegebene Funktion `compute_ifft`. \n",
    "4) Wie würden Sie die gewünschte Puls-Form im Spektrometer erreichen?   \n"
   ]
  },
  {
   "cell_type": "code",
   "execution_count": 3,
   "metadata": {},
   "outputs": [],
   "source": [
    "# Load external data file\n",
    "data = np.load('pulses.npz')\n",
    "# Extract the variables\n",
    "t = data['t']\n",
    "pulse_input = data['input']\n",
    "pulse_output = data['output']"
   ]
  },
  {
   "cell_type": "markdown",
   "metadata": {},
   "source": [
    "## Aufgabe 2: Faltung\n",
    "--------------------\n",
    "\n",
    "Berechnen Sie numerisch die Faltung einer Rechteckfunktion (box function) mit einer identischen Rechteckfunktion (a) sowie die Faltung einer Rechteckfunktion mit einer Gauss-Funktion (b):  \n",
    "\n",
    "<center>\n",
    "<img src=\"img/img1.png\" width=700  />\n",
    "</center>\n",
    "\n",
    "Benutzen Sie dazu die Numpy-Funktion ``convolve``. Definieren Sie alle Ausgangfunktionen zwischen $ t = -10 $ und $ t=10 $ mit 2001 Punkten. Konstruieren Sie eine Rechteckfunktion die eine Breite von 18.0 hat und eine Gauss-Funktion mit einer Standardabweichung $ \\sigma = 1 $. Die Zeitachse der Faltung soll explizit berechnet werden.\\\\\n",
    "\\textit{Hinweis:} Um den Vektor $ t $ zu kreieren können Sie den Befehl ``t = np.linspace(-10,10,2001)`` verwenden. Für die Gaussfunktion brauchen sie die foglende Definition: \n",
    "\n",
    "\\begin{equation}\n",
    "f(x,\\mu,\\sigma) = \\frac{1}{\\sigma \\sqrt{2\\pi}}\\exp\\left(-\\frac{(x - \\mu)^2}{2\\sigma^2} \\right)\n",
    "\\end{equation}"
   ]
  },
  {
   "cell_type": "code",
   "execution_count": null,
   "metadata": {},
   "outputs": [],
   "source": []
  },
  {
   "cell_type": "markdown",
   "metadata": {},
   "source": [
    "## Aufgabe 3: Fourier-Transformation\n",
    "--------------------\n"
   ]
  },
  {
   "cell_type": "markdown",
   "metadata": {},
   "source": [
    "Berechnen Sie numerisch die Fourier Transformierten der folgenden Funktionen:\n",
    "\n",
    "(a) Rechteckfunktion mit der Breite $ \\Delta t = 25.0 $, zentriert um $ t=0 $.\n",
    "\n",
    "(b) Rechteckfunktion mit der Breite $ \\Delta t = 5.0 $, zentriert um $ t = 0 $.\n",
    "\n",
    "(c) Rechteckfunktion mit der Breite $ \\Delta t = 25.0 $, zentriert um $ t=0 $, multipliziert mit einer harmonischen Funktion $ \\cos(2\\pi t) $, mit $ \\nu = 1.0 $.\n",
    "\n",
    "(d) Rechteckfunktion mit der Breite $ \\Delta t = 5.0 $, zentriert um $ t=25 $.\n",
    "\n",
    "*Hinweis:* Verwenden Sie für Ihre Berechnungen die folgende Zeitachse: \n",
    "``t = np.linspace(-50,50,4096); # Zeitachse der Fourier Transformation``\n",
    "\n",
    "<center>\n",
    "<img src=\"img/img4.png\" width=600  />\n",
    "</center>"
   ]
  },
  {
   "cell_type": "code",
   "execution_count": null,
   "metadata": {
    "tags": []
   },
   "outputs": [],
   "source": []
  }
 ],
 "metadata": {
  "interpreter": {
   "hash": "63fd5069d213b44bf678585dea6b12cceca9941eaf7f819626cde1f2670de90d"
  },
  "kernelspec": {
   "display_name": "Python 3.9.5 64-bit",
   "name": "python3"
  },
  "language_info": {
   "codemirror_mode": {
    "name": "ipython",
    "version": 3
   },
   "file_extension": ".py",
   "mimetype": "text/x-python",
   "name": "python",
   "nbconvert_exporter": "python",
   "pygments_lexer": "ipython3",
   "version": "3.9.5"
  },
  "orig_nbformat": 2
 },
 "nbformat": 4,
 "nbformat_minor": 2
}
