{
 "cells": [
  {
   "cell_type": "markdown",
   "source": [
    "# Messtechnik HS2021 - Tutorial 4"
   ],
   "metadata": {}
  },
  {
   "cell_type": "markdown",
   "source": [
    "## Aufgabe 1: Diskrete Fourier Transformation und Datenverarbeitung\r\n",
    "---------\r\n",
    "Ein Kohlenstoff NMR Signal ($^{13}{\\rm C}$) wurde aufgenommen und mit einer Abtastrate von 15 kHz digitalisiert. Das komplexwertige FID wurde durch ein MATLAB Program digitalisiert, exportiert und ist in `fid.mat` zu finden.\r\n",
    "\r\n",
    "---------"
   ],
   "metadata": {}
  },
  {
   "cell_type": "markdown",
   "source": [
    "### 1a)\r\n",
    "Generieren Sie aus dem komplexwertigen FID das dazugehörige Spektrum und plotten Sie dessen Realteil mit der korrekten Frequenzachse in kHz.\r\n",
    "\r\n",
    "*Hinweis:* Um MATLAB Dateien in Python zu importieren, kann man die ``scipy.io.loadmat`` Funktion brauchen:\r\n",
    "\r\n",
    "````\r\n",
    "from scipy.io import loadmat \r\n",
    "data = loadmat('fid.mat')\r\n",
    "fid = data['fid']\r\n",
    "fid = np.squeeze(fid) \r\n",
    "````"
   ],
   "metadata": {}
  },
  {
   "cell_type": "code",
   "execution_count": null,
   "source": [],
   "outputs": [],
   "metadata": {}
  },
  {
   "cell_type": "markdown",
   "source": [
    "### 1b)\r\n",
    "Durch einen Matched Filter lässt sich das Signal-zu-Rausch-Verhältnis (SNR) nachträglich verbessern. Das Signal kann beschrieben werden als\r\n",
    "$$ y(t) = \\exp(-i\\omega_0 t) \\exp(-\\frac{t}{T_2}) $$\r\n",
    "wobei $\\omega_0$ die Larmorfrequenz ist und $T_2$ die transversale Relaxationszeit. Bei einem Matched Filter wird das Zeitsignal $ y(t) $ mit der Zerfallsfunktion $ y_e(t) = \\exp(-\\frac{t}{T_2}) $ multipliziert.\r\n",
    "Zeigen Sie die Auswirkungen auf das Spektrum bei der Anwendung von Matched Filtern mit Zerfallszeiten $T_2 = [1,2,5,10,50,100]$."
   ],
   "metadata": {}
  },
  {
   "cell_type": "code",
   "execution_count": null,
   "source": [],
   "outputs": [],
   "metadata": {}
  },
  {
   "cell_type": "markdown",
   "source": [
    "### 1c)\r\n",
    "Finden Sie eine passende Zerfallszeit für den Matched Filter, sodass Sie eine gute Balance zwischen Auflösung und SNR erhalten."
   ],
   "metadata": {}
  },
  {
   "cell_type": "code",
   "execution_count": null,
   "source": [],
   "outputs": [],
   "metadata": {}
  },
  {
   "cell_type": "markdown",
   "source": [
    "### 1d)\r\n",
    "Nehmen Sie nun an die Aufnahmezeit des FID's ist beschränkt auf 20 ms. Erstellen Sie aus `fid.mat` das entsprechende abgeschnittene Signal, hängen Sie dann Nullen an (Zerofilling), sodass Sie am Ende ein Signal mit insgesamt 2048 Punkte erhalten. Was fällt Ihnen auf, wenn Sie die Spektren des abgeschnittenen und des originalen Signal mit dem vollständigen vergleichen? "
   ],
   "metadata": {}
  },
  {
   "cell_type": "code",
   "execution_count": null,
   "source": [],
   "outputs": [],
   "metadata": {}
  },
  {
   "cell_type": "markdown",
   "source": [
    "### 1e)\r\n",
    "Programmieren Sie ein Hamming Apodisierungsfenster \r\n",
    "\r\n",
    "$$ w_{\\text{hamming}}(t) = 0.54 + 0.46 \\cos(\\frac{\\pi t}{t_{\\text{max}}})$$\r\n",
    "\r\n",
    "für das bei 60 ms abgeschnittene FID. Wenden Sie das Hamming Window auf das abgeschnittene Signal an, zerofillen Sie auf 2048 Punkte und vergleichen Sie die Spektren mit und ohne Hamming Window."
   ],
   "metadata": {}
  },
  {
   "cell_type": "code",
   "execution_count": null,
   "source": [],
   "outputs": [],
   "metadata": {}
  },
  {
   "cell_type": "markdown",
   "source": [
    "### 1f)\r\n",
    "Zeigen Sie, dass ein Hamming Fenster die Auflösung im Frequenzbereich im Vergleich zu einem \"hart\" abgeschnittenen FID verschlechtert, jedoch die *ripples* besser unterdrückt. Verwenden Sie Zerofilling au 2048 Punkte. Vergleichen Sie dazu die entsprechende Faltungsfunktion im Frequenzbereich."
   ],
   "metadata": {}
  },
  {
   "cell_type": "code",
   "execution_count": null,
   "source": [],
   "outputs": [],
   "metadata": {}
  },
  {
   "cell_type": "markdown",
   "source": [
    "## Aufgabe 2: Digitalisierung eines Zeitsignals\r\n",
    "---------\r\n",
    "Ein zeitlich abfallendes oszillierendes Signal hat die Form:\r\n",
    "$\\begin{equation}\r\n",
    "\tx(t) = \r\n",
    "\t\\begin{cases}\r\n",
    "\t\t \\exp \\left( - \\frac{t}{T_2} \\right) \\left\\{ \\cos(2\\pi \\nu_1 t) + 3\\cos(2\\pi \\nu_2 t) \\right\\} & t\\geq 0 \\\\\r\n",
    "\t \t0 & t < 0\r\n",
    "\t \\end{cases}\r\n",
    "\\end{equation}$\r\n",
    "mit den beiden Frequenzkomponenten $ \\nu_1 =10\\,{\\rm Hz}$ und $\\nu_2 = 150\\,{\\rm Hz}$ sowie der Zerfallszeit $T_2  = 0.5\\,{\\rm s}$. Das Signal wird total durch 2048 Punkte aufgenommen und digitalisiert.\r\n",
    "\r\n",
    "---------"
   ],
   "metadata": {}
  },
  {
   "cell_type": "markdown",
   "source": [
    "### 2a)\r\n",
    "Welche Abtastrate schlagen Sie für das Digitalisieren dieses Signals vor? Begründen Sie Ihre Antwort mit Hilfe des Abtasttheorems.\r\n",
    "Berechnen Sie anhand der vorgeschlagenen Abtastrate das Zeitsignal und das dazugehörige Spektrum.\r\n"
   ],
   "metadata": {}
  },
  {
   "cell_type": "code",
   "execution_count": null,
   "source": [],
   "outputs": [],
   "metadata": {}
  },
  {
   "cell_type": "markdown",
   "source": [
    "### 2b)\r\n",
    "Vergleichen Sie unterschiedlichen Abtastraten $f_s = 200,320,1000\\,{\\rm Hz}$ für das obengenannte Signal . Was für Erkenntnisse können Sie aus den entsprechenden Spektren gewinnen?"
   ],
   "metadata": {}
  },
  {
   "cell_type": "code",
   "execution_count": null,
   "source": [],
   "outputs": [],
   "metadata": {}
  }
 ],
 "metadata": {
  "orig_nbformat": 4,
  "language_info": {
   "name": "python"
  }
 },
 "nbformat": 4,
 "nbformat_minor": 2
}