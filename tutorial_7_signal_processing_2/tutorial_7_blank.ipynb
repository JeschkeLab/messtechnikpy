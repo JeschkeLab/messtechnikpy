{
 "cells": [
  {
   "cell_type": "markdown",
   "metadata": {},
   "source": [
    "# Messtechnik HS2021 - Tutorial 7"
   ]
  },
  {
   "cell_type": "markdown",
   "metadata": {},
   "source": [
    "## Aufgabe: Datenverarbeitung für höhere Auflösung\n",
    "--------------------\n",
    "Analysieren Sie den simulierten *free induction decay* ``FID.mat`` (das Format ``.mat`` entspricht eine MATLAB formatierte Datei), welcher mit $e^{-\\sigma^2t^2/2}$ und dem Zerfallsparameter $\\sigma = $ 1.6 MHz abklingt. Ein solcher Zerfall kann zum Beispiel dann beobachtet werden, wenn die Resonanzfrequenzen Gauss-verteilt sind. Das Signal enthält zusätzlich Rauschen, das mit einem Pseudozufallszahlengenerator (*pseudo-random number generator*) erzeugt wurde."
   ]
  },
  {
   "cell_type": "markdown",
   "metadata": {},
   "source": [
    "-----------------\n",
    "__(a)__ Versuchen Sie mit Hilfe der *Self-deconvolution*, *Zero-filling* und *Apodization* die spektrale Auflösung zu verbessern und die ursprüngliche unverbreitete Linien zurückzuerhalten. Überlagern Sie den originalen FID mit ihrer Apodisationsvariante, sowohl im Zeit- wie auch im Frequenzraum. \n",
    "\n",
    "* Wie viele Linien erkennen Sie im Spektrum? \n",
    "* Was sind die Amplitudenverhältnisse dieser Linien? \n",
    "* Geben Sie für jede Window-Funktion, welche Sie zur Apodisation verwenden, den Effekt auf die spektrale Linienbreite an (Verbreiterung/Verschmälerung). "
   ]
  },
  {
   "cell_type": "code",
   "execution_count": 1,
   "metadata": {},
   "outputs": [],
   "source": [
    "from scipy.io import loadmat \n",
    "\n",
    "# Load the MATLAB-formatted file\n",
    "data = loadmat('FID.mat',squeeze_me=True)\n",
    "t = data['t'] # microseconds\n",
    "fid = data['I1'] # arb. units"
   ]
  },
  {
   "cell_type": "markdown",
   "metadata": {},
   "source": [
    "-----------------\n",
    "__(b)__ Normalerweise ist der Zerfallsparameter $\\sigma$ nicht genau bekannt. Wie verändert sich das Spektrum, wenn Sie anstelle von $\\sigma = $ 1.6 MHz von einem grösseren oder einem kleineren $\\sigma$ ausgehen?"
   ]
  }
 ],
 "metadata": {
  "interpreter": {
   "hash": "3e86a62efba82790f853b8a13387d0532d38678c2d1754dd03f9308174f49b65"
  },
  "kernelspec": {
   "display_name": "Python 3.7.9 64-bit",
   "name": "python3"
  },
  "language_info": {
   "codemirror_mode": {
    "name": "ipython",
    "version": 3
   },
   "file_extension": ".py",
   "mimetype": "text/x-python",
   "name": "python",
   "nbconvert_exporter": "python",
   "pygments_lexer": "ipython3",
   "version": "3.9.5"
  },
  "orig_nbformat": 4
 },
 "nbformat": 4,
 "nbformat_minor": 2
}
