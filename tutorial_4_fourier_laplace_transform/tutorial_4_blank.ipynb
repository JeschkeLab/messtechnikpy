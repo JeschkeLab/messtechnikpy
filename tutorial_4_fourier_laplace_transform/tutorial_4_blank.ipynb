{
 "cells": [
  {
   "cell_type": "markdown",
   "source": [
    "# Messtechnik HS2021 - Tutorial 4"
   ],
   "metadata": {}
  },
  {
   "cell_type": "markdown",
   "source": [
    "## Aufgabe 1: Fourier Transform der Dirac-delta Funktion\r\n",
    "---------\r\n",
    "In der folgenden Aufgabe generieren Sie selber eine Dirac-delta Funktion und berechnen die Fourier Transformation dieser Funktion um das entsprechende Spektrum zu erhalten.\r\n",
    "\r\n",
    "Die Dirac-delta Funktion ist mathematisch definiert als:\r\n",
    "$$\\delta(t) = 0 \\;\\; \\text{if} \\;\\; t \\neq 0$$\r\n",
    "$$ \\int_{-\\infty}^{\\infty} \\delta(t) dt = 1$$\r\n",
    "\r\n",
    "---------"
   ],
   "metadata": {}
  },
  {
   "cell_type": "markdown",
   "source": [
    "### 1a)\r\n",
    "Mit dem Package [Sympy](https://www.sympy.org/en/index.html) können Sie mathematische Probleme analytisch lösen. Hier möchten wir Ihnen demonstrieren, wie man die Fourier Transformation einer Dirac-delta Funktion analytisch lösen kann mit Python."
   ],
   "metadata": {}
  },
  {
   "cell_type": "code",
   "execution_count": null,
   "source": [],
   "outputs": [],
   "metadata": {}
  },
  {
   "cell_type": "markdown",
   "source": [
    "### 1b)\r\n",
    "Schreiben Sie eine Funktion, die als Input die Zeitachse nimmt und eine Dirac-delta Funktion bei $t = 0$ rausgibt. "
   ],
   "metadata": {}
  },
  {
   "cell_type": "code",
   "execution_count": null,
   "source": [],
   "outputs": [],
   "metadata": {}
  },
  {
   "cell_type": "markdown",
   "source": [
    "### 1c)\r\n",
    "Berechnen Sie zuerst die Dirac-delta Funktion für den Zeitbereich $[-10,10]$ mit einer Auflösung von 2001 Punkten. Generieren Sie danach das dazugehörige Spektrum, indem Sie die Fourier Transformation verwenden. Es gibt bereits Fourier Tranformation Funktionen in [Numpy](https://numpy.org/doc/stable/reference/routines.fft.html). Berechnen Sie die Frequenzachse mit der Numpyfunktion `fftfreq()`. Stellen Sie die Ergebnisse graphisch dar und kommentieren Sie das Resulat in Bezug auf die Erkenntnisse von Aufgabe 1a).\r\n",
    "\r\n",
    "*Hinweis*: Wenden Sie die Funktion `fftshift()` nach Berechnung der Frequenzachse und des Spektrum auf beide Vektoren an, sodass die Nullfrequenz in der Mitte der Spektrums ist."
   ],
   "metadata": {}
  },
  {
   "cell_type": "code",
   "execution_count": null,
   "source": [],
   "outputs": [],
   "metadata": {}
  },
  {
   "cell_type": "markdown",
   "source": [
    "## Aufgabe 2: Null- und Polstellen-Diagramm\r\n",
    "---------\r\n",
    "\r\n",
    "Elektrische sowie auch digitale Systeme, wie zum Beispiel Filter, können durch die Null- und Polstellen ihrer Übertragungfunktion G(s) charakterisiert werden. Bei der Übertragungsfunktion (engl. transfer function) handelt es sich um die Laplace Transformation der Impulseantwort g(t).\r\n",
    "\r\n",
    "Gegeben ist die Übertragungsfunktion\r\n",
    "\r\n",
    "$$ G(s)= \\frac{P(s)}{Q(s)}= \\frac{s+\\alpha}{(s+\\alpha)^2 +\\omega_r^2}$$\r\n",
    "\r\n",
    "für die gilt: \r\n",
    "$$ \\omega_r,~\\alpha \\in \\mathbb{R}\\qquad\\omega_r>\\alpha>0 $$\r\n",
    "\r\n",
    "---------"
   ],
   "metadata": {}
  },
  {
   "cell_type": "markdown",
   "source": [
    "### 2a)\r\n",
    "Berechnen Sie die Null- und Polstellen dieser Übertragungsfunktion und plotten Sie diese in der komplexen Zahlenebene (s-Ebene). Verwenden sie die Werte $\\omega_r=0.3$ und $\\alpha=0.15$."
   ],
   "metadata": {}
  },
  {
   "cell_type": "code",
   "execution_count": null,
   "source": [],
   "outputs": [],
   "metadata": {}
  },
  {
   "cell_type": "markdown",
   "source": [
    "### 2b)\r\n",
    "Aus dem Abstand der Nullstellen und Pole zu einer Frequenz in der imaginären Achse kann man die Frequenzeigenschaften des Systems abschätzen.\r\n",
    "Um diese Frequenzübertragungseigenschaften des Systems mit Übertragungsfunktion G(s) herauszufinden, verwenden wir ein hilfreiches [Online-Tool](http://controlsystemsacademy.com/0019/0019.html).\r\n",
    "Auf dieser Homepage können Sie die errechneten Nullstellen und Pole in der s-Ebene eintragen und es wir automatisch ein Bode Plot generiert. Mehr über Bode Plots finden Sie im Vorlesungsskript auf Seite 54ff.\r\n",
    "Bestimmen Sie anhand des Bode Plots die Eigenschaften des hier analysierten Filtersystems."
   ],
   "metadata": {}
  },
  {
   "cell_type": "markdown",
   "source": [
    "### 2c)\r\n",
    "Vergleichen Sie die verschiedenen Arten von Filtern auf der [Website](http://controlsystemsacademy.com/0019/0019.html) anhand ihrer Null- und Polstellen. Wie ist die Ordnung der von Filtern definiert?\r\n"
   ],
   "metadata": {}
  },
  {
   "cell_type": "markdown",
   "source": [
    "### 2d)\r\n",
    "Schieben Sie die Null- und Polstellen von einem High-Pass Filter erster/zweiter Ordnung und dokumentieren Sie ihre Erkenntnisse.\r\n",
    "Zum Beispiel:\r\n",
    "- Je näher die Nullstelle bei $\\omega_0$ (auf imaginären Achse = $i \\omega$-Achse) desto ...\r\n",
    "- Je näher die Polstelle bei $\\omega_0$ (auf imaginären Achse = $i \\omega$-Achse) desto ..."
   ],
   "metadata": {}
  }
 ],
 "metadata": {
  "orig_nbformat": 4,
  "language_info": {
   "name": "python",
   "version": "3.7.9"
  },
  "kernelspec": {
   "name": "python3",
   "display_name": "Python 3.7.9 64-bit"
  },
  "interpreter": {
   "hash": "3e86a62efba82790f853b8a13387d0532d38678c2d1754dd03f9308174f49b65"
  }
 },
 "nbformat": 4,
 "nbformat_minor": 2
}