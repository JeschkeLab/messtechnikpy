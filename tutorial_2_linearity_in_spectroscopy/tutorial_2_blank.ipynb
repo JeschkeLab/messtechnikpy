{
 "cells": [
  {
   "cell_type": "markdown",
   "source": [
    "# Messtechnik HS2021 - Tutorial 2"
   ],
   "metadata": {}
  },
  {
   "cell_type": "markdown",
   "source": [
    "## Aufgabe 1: Linearität in der Spektroskopie\r\n",
    "---------\r\n",
    "Die Impulseantwort eines Spinsystems in der NMR/EPR kann durch die Blochgleichungen beschrieben werden. In der Annahme des Steady-States (wie z.B. bei continous wave EPR) ist das resultierende Spektrum durch die folgenden Parameter charakterisiert:\r\n",
    "\r\n",
    "Frequenz $\\nu$ , longitudinale Relaxationszeit $T_1$, transversale Relaxationszeit $T_2$ und die Anregungsstärke $\\nu_1$.\r\n",
    "\r\n",
    "Nehmen Sie für diese Aufgabe an, dass das System sich linear verhält (d.h. die Anregungsstärke klein ist).\r\n",
    "\r\n",
    "---------"
   ],
   "metadata": {}
  },
  {
   "cell_type": "markdown",
   "source": [
    "### 1a)\r\n",
    "Erstellen sie ein Spektrum (Absorptions- und Dispersionsspektrum) im Frequenzbreich $[-10,10]$, welches zwei unterschiedliche Frequenzkomponenten beinhaltet. Die beiden Komponenten sind charakterisiert durch:\r\n",
    "\r\n",
    "Komponente A\r\n",
    "- $\\nu_A   = 4$\r\n",
    "- $T_{1,A} = 10$\r\n",
    "- $T_{2,A} = 1$\r\n",
    "\r\n",
    "Komponente B\r\n",
    "- $\\nu_B   = -2$\r\n",
    "- $T_{1,B} = 20$\r\n",
    "- $T_{2,B} = 1.5$\r\n",
    "\r\n",
    "70% der angeregten Spins tragen zu Komponente A bei und 30% zu B.\r\n",
    "\r\n",
    "Importieren Sie zu Beginn die gebrauchten Python-libraries und definieren Sie anschliessend alle oben genannten Parameter.\r\n"
   ],
   "metadata": {}
  },
  {
   "cell_type": "code",
   "execution_count": null,
   "source": [],
   "outputs": [],
   "metadata": {}
  },
  {
   "cell_type": "markdown",
   "source": [
    "### 1b)\r\n",
    "Verwenden Sie die Funktion `Bloch_stationary()` aus den Modul `Bloch.py` um das Spektrum zu berechnen. Um die Inputparameter und die Eingabereihenfolge für die Funktion `Bloch_stationary()` herauszufinden, können Sie die Helpfunktion `help(function)` von Python verwenden. "
   ],
   "metadata": {}
  },
  {
   "cell_type": "code",
   "execution_count": null,
   "source": [],
   "outputs": [],
   "metadata": {}
  },
  {
   "cell_type": "markdown",
   "source": [
    "### 1c)\r\n",
    "Berechnen Sie das Amplitudenverhältnis der beiden Spektralkomponenten und kommentieren Sie das Ergebnis. Weshalb entspricht es nicht dem Verhältnis der angeregten Spins?"
   ],
   "metadata": {}
  },
  {
   "cell_type": "code",
   "execution_count": null,
   "source": [],
   "outputs": [],
   "metadata": {}
  },
  {
   "cell_type": "markdown",
   "source": [
    "### 1d)\r\n",
    "Plotten Sie das berechnete Spektrum, beschriften Sie die Achsen korrekt und erstellen Sie eine Legende, um den Real- und Imaginärteil zu beschriften.\r\n",
    "(Infos zu allen Funktionen in matlibplot.pyplot finden Sie [hier](https://matplotlib.org/stable/api/_as_gen/matplotlib.pyplot.html#module-matplotlib.pyplot))."
   ],
   "metadata": {}
  },
  {
   "cell_type": "code",
   "execution_count": null,
   "source": [],
   "outputs": [],
   "metadata": {}
  },
  {
   "cell_type": "markdown",
   "source": [
    "### 1e)\r\n",
    "Schreiben Sie eine Funktion `Bloch_stationary_multiline()`, die als Input Listen von Parametern akzeptiert und so ein Mehrlinienspektrum berechnet. Testen Sie Ihre geschriebene Funktion mit den unten angegebenen Parametern. Um zu sehen wie eine Funktion aufgebaut ist können Sie die `Bloch.py`-Datei öffnen und schauen, wie die `Bloch_stationary`-Funktion geschrieben wurde. Wenn Sie noch Informationen zum `numpy`-package brauchen, finden sie diese [hier](https://numpy.org/doc/stable/reference/routines.html).\r\n",
    " *Hinweis:* Ein `for`-loop in der Funktion kann sehr hilfreich sein."
   ],
   "metadata": {}
  },
  {
   "cell_type": "code",
   "execution_count": null,
   "source": [
    "import numpy as np\r\n",
    "import matplotlib.pyplot as plt \r\n",
    "\r\n",
    "def Bloch_stationary_multiline(frq_axis,frq,T1,T2,fraction):\r\n",
    "    \r\n",
    "    # Dein Code\r\n",
    "\r\n",
    "    return spectrum\r\n",
    "\r\n",
    "# specify spectrum as line list\r\n",
    "frq = [-9, -7.5, -3,2, 5, 7.75, 8.25]\r\n",
    "T1  = [10, 12, 15, 10, 10, 20, 20]\r\n",
    "T2  = [1, 1.5, 1.5, 1, 1, 1.5, 1.5]\r\n",
    "fraction = [4, 5, 3, 3, 7, 2, 2]\r\n",
    "\r\n",
    "# define the frequency axis\r\n",
    "frq_axis = np.linspace(-10,10,1024)\r\n",
    "\r\n",
    "# spectrum calculation\r\n",
    "spc = Bloch_stationary_multiline(frq_axis,frq,T1,T2,fraction)\r\n",
    "\r\n",
    "plt.figure(figsize=(8,6))\r\n",
    "plt.plot(frq_axis,np.real(spc),'k')\r\n",
    "plt.plot(frq_axis,np.imag(spc),'r')\r\n",
    "plt.xlabel('$\\Delta\\\\nu$ (MHz)',fontsize=13)\r\n",
    "plt.ylabel('intensity (a.u.)',fontsize=13)\r\n",
    "plt.legend(['Absorpion (real)','Dispersion (imaginär)'],fontsize=13)\r\n",
    "plt.title('Solution 1c)',fontsize=13);"
   ],
   "outputs": [],
   "metadata": {}
  },
  {
   "cell_type": "markdown",
   "source": [
    "### 1f)\r\n",
    "Das Spektrum kann mathematisch beschrieben werden als\r\n",
    "$$ S(\\nu) = ( A(\\nu) + \\mathrm{i} D(\\nu) ) \\cdot \\exp{(\\mathrm{i}\\phi)} $$\r\n",
    "wobei $A(\\nu)$ das Absorptionssignal, $D(\\nu)$ das Dispersionssignal und $\\phi$ eine Phasen sind. Die Phasenverschiebung durch $\\phi$ muss korrigiert werden, dass nur das reine Absorptions- und Dispersionsspektrum analysiert werden kann. Diese Phasenkorrektur kann vorgenommen werden, indem man den oberen Ausdruck umformt zu :\r\n",
    "$$ S(\\nu) \\cdot \\exp{(-\\mathrm{i}\\phi)}  = A(\\nu) + \\mathrm{i} D(\\nu) $$ \r\n",
    "\r\n",
    "Probieren Sie die Phase des gegebenen Signals (`spc_uncorr`) so zu korrigieren, dass das reine Absorptions- und Dispersionsspektrum entsteht.\r\n",
    "\r\n"
   ],
   "metadata": {}
  },
  {
   "cell_type": "code",
   "execution_count": null,
   "source": [
    "import math as m\r\n",
    "\r\n",
    "data = np.load('signal_uncorrected.npz')\r\n",
    "frq_axis   = data['frq_axis']\r\n",
    "spc_uncorr = data['spc']\r\n",
    "\r\n",
    "# Phasenkorrektur\r\n",
    "\r\n",
    "plt.figure(figsize=(16,6))\r\n",
    "plt.subplot(121)\r\n",
    "plt.plot(frq_axis,np.real(spc_uncorr),'k')\r\n",
    "plt.plot(frq_axis,np.imag(spc_uncorr),'r')\r\n",
    "plt.xlabel('$\\Delta\\\\nu$ (MHz)',fontsize=13)\r\n",
    "plt.ylabel('intensity (a.u.)',fontsize=13)\r\n",
    "plt.legend(['Absorpion (unkorrigiert)','Dispersion (unkorrigiert)'],fontsize=13)\r\n",
    "plt.subplot(122)\r\n",
    "# Plot korrigiertes Spektrum\r\n",
    "plt.xlabel('$\\Delta\\\\nu$ (MHz)',fontsize=13)\r\n",
    "plt.ylabel('intensity (a.u.)',fontsize=13)\r\n",
    "plt.legend(['Absorption (korrigiert)','Dispersion (korrigiert)'],fontsize=13)\r\n",
    "plt.suptitle('Solution 1f)',fontsize=13);"
   ],
   "outputs": [],
   "metadata": {}
  },
  {
   "cell_type": "markdown",
   "source": [
    "## Aufgabe 2: Lineares Verhalten vs. Nicht-lineares Verhalten / Sättigung (optional)\r\n",
    "---------\r\n",
    "Der Sättigungsparameter $S = (2\\pi \\nu_1)^2 T_1 T_2 $ beschreibt, ob ein Spinübergang als lineares System betrachtet werden kann. Um eine Abweichung vom linearen Verhalten zu erkennen muss die Abhängigkeit der Amplitude, integralen Intensität und der Linienform einer Spektralkomponente von der Anregungsstärke $\\nu_1$ betrachet werden.\r\n",
    "\r\n",
    "---------"
   ],
   "metadata": {}
  },
  {
   "cell_type": "markdown",
   "source": [
    "### 2a)\r\n",
    "Schreiben Sie die Funktion `Bloch_saturation()`, welche die maximale Amplitude, die integrale Intensität und die Linienform anhand der Full-Width-Half-Maximum (FWHM) für unterschiedliche Anregungsstärken $\\nu_1$ berechnet. Teste deine Funktion mit den unten angegebenen Spinsystem-Parametern ($\\nu,T_1,T_2$) für Anregungstärken $\\nu_1 = [0.0001,0.1]$.\r\n",
    "*Hinweis:* Um ein Integral zu berechnen können Sie die Numpy-Funktion `np.trapz()` verwenden."
   ],
   "metadata": {}
  },
  {
   "cell_type": "code",
   "execution_count": null,
   "source": [
    "import numpy as np\r\n",
    "import math as m\r\n",
    "import matplotlib.pyplot as plt\r\n",
    "from Bloch import Bloch_stationary\r\n",
    "\r\n",
    "def Bloch_saturation(frq_axis,frq,T1,T2,nu1):\r\n",
    "    \r\n",
    "    # Dein Code\r\n",
    "\r\n",
    "    return amplitude,integral,fwhm\r\n",
    "\r\n",
    "# Spinsystem Parameter\r\n",
    "frq_axis = np.linspace(-5,5,8192)\r\n",
    "frq = 0\r\n",
    "T1  = 10\r\n",
    "T2  = 1\r\n",
    "\r\n",
    "# Teste Bloch_saturation Funktion\r\n",
    "amplitude,integral,fwhm = Bloch_saturation(frq_axis,frq,T1,T2,nu1)"
   ],
   "outputs": [],
   "metadata": {}
  },
  {
   "cell_type": "markdown",
   "source": [
    "### 2b)\r\n",
    "Plotten Sie die maximale Amplitude, die integrale Intensität und die Full-Width-Half-Maximum (FWHM) in Abhänigkeit von der Anregungsstärke $\\nu_1$ und dem Sättigungsparameter $S$. Überlegen Sie sich anhand dieser Plots in welchem Bereich von $\\nu_1$ und $S$ das Spinsystem als linear betrachtet werden kann. Wie verhalten sich die maximale Amplitude, die integrale Intensität und die FWHM unterschiedlich im linearen und nicht-linearen Bereich?"
   ],
   "metadata": {}
  },
  {
   "cell_type": "code",
   "execution_count": null,
   "source": [],
   "outputs": [],
   "metadata": {}
  },
  {
   "cell_type": "markdown",
   "source": [
    "### 2c)\r\n",
    "Bestimmen Sie die Steigungen der Amplitude und der integralen Intensität im linearen Bereich als Funktion von $\\nu_1$:\r\n",
    "\r\n",
    "- $ A_{\\text{max}}(\\nu_1) = c_1 \\nu_1 $\r\n",
    "- $ I(\\nu_1) \\; \\; \\; \\; \\; \\;= c_2 \\nu_1 $\r\n",
    "\r\n",
    "Plotten Sie die Abhängigkeit der Amplitude und integralen Intensität von der Anregungsstärke $\\nu_1$ zusammen mit der linearen Approximation.\r\n",
    "Berechnen und plotten Sie das Verhältnis zwischen der tatsächlichen und linear approximierten Amplitude / integralen Intensität ($A_{\\text{real}}/A_{\\text{lin}}$ und $I_{\\text{real}}/I_{\\text{lin}}$) in Abhänigkeit von $\\nu_1$ und $S$."
   ],
   "metadata": {}
  },
  {
   "cell_type": "code",
   "execution_count": null,
   "source": [],
   "outputs": [],
   "metadata": {}
  }
 ],
 "metadata": {
  "orig_nbformat": 4,
  "language_info": {
   "name": "python",
   "version": "3.7.9",
   "mimetype": "text/x-python",
   "codemirror_mode": {
    "name": "ipython",
    "version": 3
   },
   "pygments_lexer": "ipython3",
   "nbconvert_exporter": "python",
   "file_extension": ".py"
  },
  "kernelspec": {
   "name": "python3",
   "display_name": "Python 3.7.9 64-bit"
  },
  "interpreter": {
   "hash": "cf97baa4dd5f92678966ef7d807ed10c287594f59ad652e48d0e32acad9661ad"
  }
 },
 "nbformat": 4,
 "nbformat_minor": 2
}